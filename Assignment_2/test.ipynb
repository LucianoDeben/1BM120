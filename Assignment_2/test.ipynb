{
 "cells": [
  {
   "cell_type": "code",
   "execution_count": null,
   "metadata": {},
   "outputs": [],
   "source": [
    "# Importing necessary libraries\n",
    "import torch\n",
    "import torch.nn as nn\n",
    "import torch.optim as optim\n",
    "import torch.nn.functional as F\n",
    "from torch.utils.data import DataLoader\n",
    "from support import load_dataset\n",
    "import matplotlib.pyplot as plt\n",
    "import pandas as pd\n",
    "import optuna\n",
    "# from model import SimpleCNN\n",
    "from train_test_optimize import train_model, test_model, objective_with_cv\n",
    "from functools import partial"
   ]
  },
  {
   "cell_type": "code",
   "execution_count": null,
   "metadata": {},
   "outputs": [],
   "source": [
    "train_data, test_data = load_dataset()\n",
    "\n",
    "print(f\"Train data: {len(train_data)}\")\n",
    "print(f\"Test data: {len(test_data)}\")"
   ]
  },
  {
   "cell_type": "code",
   "execution_count": null,
   "metadata": {},
   "outputs": [],
   "source": [
    "# Get a batch of training data\n",
    "train_loader = DataLoader(train_data, batch_size=64, shuffle=True, drop_last=True)\n",
    "images, labels = next(iter(train_loader))"
   ]
  },
  {
   "cell_type": "code",
   "execution_count": null,
   "metadata": {},
   "outputs": [],
   "source": [
    "# Define the class labels\n",
    "class_labels = [\"Defect\", \"No Defect\"]\n",
    "\n",
    "# Create a grid of the images and print the labels\n",
    "plt.figure(figsize=(15, 15))\n",
    "for i in range(5):\n",
    "    plt.subplot(5, 5, i + 1)\n",
    "    plt.imshow(images[i][0], cmap=\"gray\")\n",
    "    plt.axis(\"off\")\n",
    "    plt.title(class_labels[labels[i]])\n",
    "\n",
    "plt.show()"
   ]
  },
  {
   "cell_type": "code",
   "execution_count": null,
   "metadata": {},
   "outputs": [],
   "source": [
    "import torch.nn as nn\n",
    "import torch.nn.functional as F\n",
    "\n",
    "\n",
    "class SimpleCNN(nn.Module):\n",
    "    \"\"\"\n",
    "    Simple CNN model for binary classification\n",
    "\n",
    "    Args:\n",
    "    - dropout_rate: dropout rate\n",
    "\n",
    "    Returns:\n",
    "    - output: predicted probability of the input belonging to the positive class\n",
    "    \"\"\"\n",
    "\n",
    "    def __init__(self, dropout_rate=0.5):\n",
    "        super(SimpleCNN, self).__init__()\n",
    "        self.conv1 = nn.Conv2d(3, 6, 5)\n",
    "        self.pool1 = nn.MaxPool2d(2, 2)\n",
    "        self.conv2 = nn.Conv2d(6, 16, 5)\n",
    "        self.pool2 = nn.MaxPool2d(3, 3)\n",
    "        self.fc1 = nn.Linear(16 * 8 * 3, 120)\n",
    "        self.fc2 = nn.Linear(120, 84)\n",
    "        self.fc3 = nn.Linear(84, 1)\n",
    "        self.init_weights()\n",
    "\n",
    "    def init_weights(self):\n",
    "        \"\"\"\n",
    "        Initialize weights of the model\n",
    "\n",
    "        Returns:\n",
    "        - None\n",
    "        \"\"\"\n",
    "        for m in self.modules():\n",
    "            if isinstance(m, (nn.Conv2d, nn.Linear)):\n",
    "                nn.init.kaiming_normal_(m.weight, nonlinearity=\"relu\")\n",
    "\n",
    "    def forward(self, x):\n",
    "        \"\"\"\n",
    "        Forward pass of the model\n",
    "\n",
    "        Args:\n",
    "        - x: input tensor\n",
    "\n",
    "        Returns:\n",
    "        - x: output tensor\n",
    "        \"\"\"\n",
    "        x = self.pool1(F.relu(self.conv1(x)))\n",
    "        x = self.pool2(F.relu(self.conv2(x)))\n",
    "        x = x.view(-1, 16 * 8 * 3)\n",
    "        x = F.relu(self.fc1(x))\n",
    "        x = F.relu(self.fc2(x))\n",
    "        x = torch.sigmoid(self.fc3(x))\n",
    "        return x.squeeze()\n",
    "\n",
    "\n",
    "model = SimpleCNN()"
   ]
  },
  {
   "cell_type": "code",
   "execution_count": null,
   "metadata": {},
   "outputs": [],
   "source": [
    "# Define global parameters\n",
    "EPOCHS = 3\n",
    "N_TRIALS = 2\n",
    "MODEL = SimpleCNN\n",
    "DEVICE = torch.device(\"cuda\" if torch.cuda.is_available() else \"cpu\")\n",
    "print(f\"Device: {DEVICE}\")"
   ]
  },
  {
   "cell_type": "code",
   "execution_count": null,
   "metadata": {},
   "outputs": [],
   "source": [
    "# Define the loss function and optimizer\n",
    "criterion = nn.BCELoss()\n",
    "optimizer = optim.Adam(model.parameters(), lr=0.005 , weight_decay=0.0001)\n",
    "\n",
    "# Move the model to the device\n",
    "model.to(DEVICE)\n",
    "\n",
    "# Train the model\n",
    "train_losses, val_losses = train_model(\n",
    "    model,\n",
    "    train_data,\n",
    "    criterion,\n",
    "    optimizer,\n",
    "    DEVICE,\n",
    "    n_epochs=EPOCHS,\n",
    "    model_name=\"initial_model\",\n",
    "    val_split=0.1,\n",
    ")"
   ]
  },
  {
   "cell_type": "code",
   "execution_count": null,
   "metadata": {},
   "outputs": [],
   "source": [
    "# Visualize the training loss over epochs\n",
    "plt.figure(figsize=(10, 5))\n",
    "plt.title(\"Training and Validation Loss per Epoch\")\n",
    "plt.plot(train_losses, label=\"Training Loss\")\n",
    "plt.plot(val_losses, label=\"Validation Loss\")\n",
    "plt.xlabel(\"Epochs\")\n",
    "plt.ylabel(\"Loss\")\n",
    "plt.legend()\n",
    "plt.show()"
   ]
  },
  {
   "cell_type": "code",
   "execution_count": null,
   "metadata": {},
   "outputs": [],
   "source": [
    "# Test model on the test data and get metrics\n",
    "accuracy, precision, recall, f1 = test_model(model, test_data, DEVICE)\n",
    "\n",
    "# Visualize the metrics in a table\n",
    "metrics = pd.DataFrame(\n",
    "    {\"Accuracy\": [accuracy], \"Precision\": [precision], \"Recall\": [recall], \"F1\": [f1]}\n",
    ")\n",
    "\n",
    "print(metrics)"
   ]
  }
 ],
 "metadata": {
  "kernelspec": {
   "display_name": "torch-gpu",
   "language": "python",
   "name": "python3"
  },
  "language_info": {
   "codemirror_mode": {
    "name": "ipython",
    "version": 3
   },
   "file_extension": ".py",
   "mimetype": "text/x-python",
   "name": "python",
   "nbconvert_exporter": "python",
   "pygments_lexer": "ipython3",
   "version": "3.11.8"
  }
 },
 "nbformat": 4,
 "nbformat_minor": 2
}
