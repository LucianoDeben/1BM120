{
 "cells": [
  {
   "cell_type": "markdown",
   "metadata": {},
   "source": [
    "# Assignment 2: Convolutional Neural Networks and AutoML\n",
    "---"
   ]
  },
  {
   "cell_type": "markdown",
   "metadata": {},
   "source": [
    "# Import Required Libraries\n",
    "Import the necessary libraries, including PyTorch and the chosen hyperparameter optimization library."
   ]
  },
  {
   "cell_type": "code",
   "execution_count": 9,
   "metadata": {},
   "outputs": [],
   "source": [
    "# Importing necessary libraries\n",
    "import torch\n",
    "import torch.nn as nn\n",
    "import torch.optim as optim\n",
    "import torch.nn.functional as F\n",
    "from torch.utils.data import DataLoader\n",
    "from torchvision import datasets, transforms\n",
    "from tqdm import tqdm\n",
    "from support import load_dataset\n",
    "import matplotlib.pyplot as plt\n",
    "from torch.utils.data import random_split\n",
    "\n",
    "# Importing hyperparameter optimization library\n",
    "import optuna\n",
    "# from hyperopt import hp, fmin, tpe, STATUS_OK, Trials\n",
    "\n",
    "# Set device\n",
    "device = torch.device('cuda' if torch.cuda.is_available() else 'cpu')\n",
    "print(f\"Device: {device}\")"
   ]
  },
  {
   "cell_type": "markdown",
   "metadata": {},
   "source": [
    "# Load and Preprocess the Wefabricate Dataset\n",
    "Load the Wefabricate dataset and preprocess it for use with a CNN."
   ]
  },
  {
   "cell_type": "code",
   "execution_count": 10,
   "metadata": {},
   "outputs": [],
   "source": [
    "train_data, test_data = load_dataset()\n",
    "\n",
    "print(f\"Train data: {len(train_data)}\")\n",
    "print(f\"Test data: {len(test_data)}\")"
   ]
  },
  {
   "cell_type": "code",
   "execution_count": 11,
   "metadata": {},
   "outputs": [
    {
     "data": {
      "image/png": "[encoded data removed]",
      "text/plain": [
       "<Figure size 1500x1500 with 5 Axes>"
      ]
     },
     "metadata": {},
     "output_type": "display_data"
    }
   ],
   "source": [
    "# Visualize data with their labels\n",
    "\n",
    "# Define the class labels \n",
    "class_labels = [\"Defect\", \"No Defect\"]\n",
    "\n",
    "# Get a batch of training data\n",
    "train_loader = DataLoader(train_data, batch_size=64, shuffle=True)\n",
    "images, labels = next(iter(train_loader))\n",
    "\n",
    "# Create a grid of the images and print the labels\n",
    "plt.figure(figsize=(15, 15))\n",
    "for i in range(5):\n",
    "    plt.subplot(5, 5, i + 1)\n",
    "    plt.imshow(images[i][0], cmap='gray')\n",
    "    plt.axis('off')\n",
    "    plt.title(class_labels[labels[i]])\n",
    "    \n",
    "plt.show()"
   ]
  },
  {
   "cell_type": "markdown",
   "metadata": {},
   "source": [
    "# Define the CNN Model\n",
    "Define a CNN to classify product images in the Wefabricate dataset."
   ]
  },
  {
   "cell_type": "code",
   "execution_count": 12,
   "metadata": {},
   "outputs": [],
   "source": [
    "class SimpleCNN(nn.Module):\n",
    "    def __init__(self):\n",
    "        super(SimpleCNN, self).__init__()\n",
    "        self.conv1 = nn.Conv2d(3, 6, 5)\n",
    "        self.bn1 = nn.BatchNorm2d(6)\n",
    "        self.pool1 = nn.MaxPool2d(2, 2)\n",
    "        self.conv2 = nn.Conv2d(6, 16, 5)\n",
    "        self.bn2 = nn.BatchNorm2d(16)\n",
    "        self.pool2 = nn.MaxPool2d(3, 3)\n",
    "        self.fc1 = nn.Linear(16 * 8 * 3, 120)\n",
    "        self.bn3 = nn.BatchNorm1d(120)\n",
    "        self.dropout1 = nn.Dropout(0.5)\n",
    "        self.fc2 = nn.Linear(120, 84)\n",
    "        self.bn4 = nn.BatchNorm1d(84)\n",
    "        self.dropout2 = nn.Dropout(0.5)\n",
    "        self.fc3 = nn.Linear(84, 1)\n",
    "\n",
    "        # Initialize weights with Kaiming Normal\n",
    "        for m in self.modules():\n",
    "            if isinstance(m, (nn.Conv2d, nn.Linear)):\n",
    "                nn.init.kaiming_normal_(m.weight, nonlinearity='relu')\n",
    "\n",
    "    def forward(self, x):\n",
    "        x = self.pool1(self.bn1(F.relu(self.conv1(x))))\n",
    "        x = self.pool2(self.bn2(F.relu(self.conv2(x))))\n",
    "        x = x.view(-1, 16 * 8 * 3)\n",
    "        x = self.dropout1(self.bn3(F.relu(self.fc1(x))))\n",
    "        x = self.dropout2(self.bn4(F.relu(self.fc2(x))))\n",
    "        x = torch.sigmoid(self.fc3(x))\n",
    "        return x.squeeze()"
   ]
  },
  {
   "cell_type": "markdown",
   "metadata": {},
   "source": [
    "# Train the CNN Model\n",
    "Train the CNN model on the training set."
   ]
  },
  {
   "cell_type": "code",
   "execution_count": 13,
   "metadata": {},
   "outputs": [],
   "source": [
    "def train_model(model, dataset, criterion, optimizer, device, n_epochs=10, val_split=0.1):\n",
    "    # Create train and validation splits\n",
    "    val_size = int(val_split * len(dataset))\n",
    "    train_size = len(dataset) - val_size\n",
    "    train_dataset, val_dataset = random_split(dataset, [train_size, val_size])\n",
    "\n",
    "    train_loader = DataLoader(train_dataset, batch_size=64, shuffle=True)\n",
    "    val_loader = DataLoader(val_dataset, batch_size=64, shuffle=True)\n",
    "\n",
    "    train_losses = []\n",
    "    val_losses = []\n",
    "    for epoch in range(n_epochs):  \n",
    "        # Training\n",
    "        model.train()\n",
    "        running_loss = 0.0\n",
    "        for inputs, labels in train_loader:\n",
    "            inputs, labels = inputs.to(device), labels.to(device).float()\n",
    "            optimizer.zero_grad()\n",
    "            outputs = model(inputs)\n",
    "            loss = criterion(outputs, labels)\n",
    "            loss.backward()\n",
    "            optimizer.step()\n",
    "            running_loss += loss.item()\n",
    "        avg_train_loss = running_loss / len(train_loader)\n",
    "        train_losses.append(avg_train_loss)\n",
    "\n",
    "        # Validation\n",
    "        model.eval()\n",
    "        running_loss = 0.0\n",
    "        with torch.no_grad():\n",
    "            for inputs, labels in val_loader:\n",
    "                inputs, labels = inputs.to(device), labels.to(device).float()\n",
    "                outputs = model(inputs)\n",
    "                loss = criterion(outputs, labels)\n",
    "                running_loss += loss.item()\n",
    "        avg_val_loss = running_loss / len(val_loader)\n",
    "        val_losses.append(avg_val_loss)\n",
    "\n",
    "        print(f'Epoch {epoch + 1}, Train Loss: {avg_train_loss}, Val Loss: {avg_val_loss}')\n",
    "\n",
    "    print('Finished Training')\n",
    "    return train_losses, val_losses"
   ]
  },
  {
   "cell_type": "code",
   "execution_count": 14,
   "metadata": {},
   "outputs": [
    {
     "name": "stdout",
     "output_type": "stream",
     "text": [
      "Epoch 1, Train Loss: 1.0230258703231812, Val Loss: 0.7088991403579712\n",
      "Epoch 2, Train Loss: 0.7237586379051208, Val Loss: 0.6330890655517578\n",
      "Epoch 3, Train Loss: 0.6288333237171173, Val Loss: 0.6021528244018555\n",
      "Epoch 4, Train Loss: 0.6267354488372803, Val Loss: 0.5642793774604797\n",
      "Epoch 5, Train Loss: 0.5375501066446304, Val Loss: 0.5245218276977539\n",
      "Epoch 6, Train Loss: 0.4196328818798065, Val Loss: 0.4668237864971161\n",
      "Epoch 7, Train Loss: 0.41323021054267883, Val Loss: 0.4023744761943817\n",
      "Epoch 8, Train Loss: 0.3182726055383682, Val Loss: 0.34023845195770264\n",
      "Epoch 9, Train Loss: 0.34110671281814575, Val Loss: 0.284629762172699\n",
      "Epoch 10, Train Loss: 0.30919045209884644, Val Loss: 0.24698993563652039\n",
      "Epoch 11, Train Loss: 0.30144330859184265, Val Loss: 0.21110039949417114\n",
      "Epoch 12, Train Loss: 0.2966896742582321, Val Loss: 0.17889276146888733\n",
      "Epoch 13, Train Loss: 0.20961404591798782, Val Loss: 0.15668006241321564\n",
      "Epoch 14, Train Loss: 0.23689255118370056, Val Loss: 0.13229992985725403\n",
      "Epoch 15, Train Loss: 0.21877805888652802, Val Loss: 0.12387663871049881\n",
      "Epoch 16, Train Loss: 0.20194458216428757, Val Loss: 0.10299800336360931\n",
      "Epoch 17, Train Loss: 0.202701173722744, Val Loss: 0.08789422363042831\n",
      "Epoch 18, Train Loss: 0.19503792375326157, Val Loss: 0.08407652378082275\n",
      "Epoch 19, Train Loss: 0.2462451457977295, Val Loss: 0.07879215478897095\n",
      "Epoch 20, Train Loss: 0.1466837227344513, Val Loss: 0.07435120642185211\n",
      "Epoch 21, Train Loss: 0.2087458074092865, Val Loss: 0.0640200600028038\n",
      "Epoch 22, Train Loss: 0.19528613984584808, Val Loss: 0.05478500947356224\n",
      "Epoch 23, Train Loss: 0.20536257326602936, Val Loss: 0.04501866549253464\n",
      "Epoch 24, Train Loss: 0.12401757016777992, Val Loss: 0.046831026673316956\n",
      "Epoch 25, Train Loss: 0.15076445415616035, Val Loss: 0.040363993495702744\n",
      "Epoch 26, Train Loss: 0.10260733962059021, Val Loss: 0.035730991512537\n",
      "Epoch 27, Train Loss: 0.09121943637728691, Val Loss: 0.032530128955841064\n",
      "Epoch 28, Train Loss: 0.11347297206521034, Val Loss: 0.030792616307735443\n",
      "Epoch 29, Train Loss: 0.10147981718182564, Val Loss: 0.026219701394438744\n",
      "Epoch 30, Train Loss: 0.10687033459544182, Val Loss: 0.024942610412836075\n",
      "Epoch 31, Train Loss: 0.13504067808389664, Val Loss: 0.02454126439988613\n",
      "Epoch 32, Train Loss: 0.11703333258628845, Val Loss: 0.029589181765913963\n",
      "Epoch 33, Train Loss: 0.10603796690702438, Val Loss: 0.04794718697667122\n",
      "Epoch 34, Train Loss: 0.0887688435614109, Val Loss: 0.06781453639268875\n",
      "Epoch 35, Train Loss: 0.06073911860585213, Val Loss: 0.08083466440439224\n",
      "Epoch 36, Train Loss: 0.07477481663227081, Val Loss: 0.07096125930547714\n",
      "Epoch 37, Train Loss: 0.06808000802993774, Val Loss: 0.047761473804712296\n",
      "Epoch 38, Train Loss: 0.08258209750056267, Val Loss: 0.024745183065533638\n",
      "Epoch 39, Train Loss: 0.04847444221377373, Val Loss: 0.015453181229531765\n",
      "Epoch 40, Train Loss: 0.06417585350573063, Val Loss: 0.012500864453613758\n",
      "Epoch 41, Train Loss: 0.03702589124441147, Val Loss: 0.013530772179365158\n",
      "Epoch 42, Train Loss: 0.05248227156698704, Val Loss: 0.015463624149560928\n",
      "Epoch 43, Train Loss: 0.036176977679133415, Val Loss: 0.016058892011642456\n",
      "Epoch 44, Train Loss: 0.06695712730288506, Val Loss: 0.013563094660639763\n",
      "Epoch 45, Train Loss: 0.040820593014359474, Val Loss: 0.009949533268809319\n",
      "Epoch 46, Train Loss: 0.03289542067795992, Val Loss: 0.007243271917104721\n",
      "Epoch 47, Train Loss: 0.030151461251080036, Val Loss: 0.00606047548353672\n",
      "Epoch 48, Train Loss: 0.04990977980196476, Val Loss: 0.006420514080673456\n",
      "Epoch 49, Train Loss: 0.026835864409804344, Val Loss: 0.008328466676175594\n",
      "Epoch 50, Train Loss: 0.04631470888853073, Val Loss: 0.010490575805306435\n",
      "Epoch 51, Train Loss: 0.02458549290895462, Val Loss: 0.011041841469705105\n",
      "Epoch 52, Train Loss: 0.02265594433993101, Val Loss: 0.009130639024078846\n",
      "Epoch 53, Train Loss: 0.025988721288740635, Val Loss: 0.006663120351731777\n",
      "Epoch 54, Train Loss: 0.03405318409204483, Val Loss: 0.004957691766321659\n",
      "Epoch 55, Train Loss: 0.027838093228638172, Val Loss: 0.004162925761193037\n",
      "Epoch 56, Train Loss: 0.025447046384215355, Val Loss: 0.0036386989522725344\n",
      "Epoch 57, Train Loss: 0.020600730553269386, Val Loss: 0.003580510150641203\n",
      "Epoch 58, Train Loss: 0.022887928411364555, Val Loss: 0.0034509131219238043\n",
      "Epoch 59, Train Loss: 0.017964879982173443, Val Loss: 0.003495594719424844\n",
      "Epoch 60, Train Loss: 0.02106328494846821, Val Loss: 0.0033454035874456167\n",
      "Epoch 61, Train Loss: 0.014822848606854677, Val Loss: 0.0032910958398133516\n",
      "Epoch 62, Train Loss: 0.013723988551646471, Val Loss: 0.0032200964633375406\n",
      "Epoch 63, Train Loss: 0.03355946205556393, Val Loss: 0.003168112598359585\n",
      "Epoch 64, Train Loss: 0.023536041378974915, Val Loss: 0.0029442915692925453\n",
      "Epoch 65, Train Loss: 0.014413141179829836, Val Loss: 0.002884168876335025\n",
      "Epoch 66, Train Loss: 0.011186538264155388, Val Loss: 0.0030954924877732992\n",
      "Epoch 67, Train Loss: 0.015056555159389973, Val Loss: 0.0031046858057379723\n",
      "Epoch 68, Train Loss: 0.011828253977000713, Val Loss: 0.0031551250722259283\n",
      "Epoch 69, Train Loss: 0.026252483017742634, Val Loss: 0.0030448422767221928\n",
      "Epoch 70, Train Loss: 0.012524257879704237, Val Loss: 0.0025414451956748962\n",
      "Epoch 71, Train Loss: 0.008338771760463715, Val Loss: 0.0023043451365083456\n",
      "Epoch 72, Train Loss: 0.00862002931535244, Val Loss: 0.0021804082207381725\n",
      "Epoch 73, Train Loss: 0.012449569068849087, Val Loss: 0.00203745742328465\n",
      "Epoch 74, Train Loss: 0.009395990520715714, Val Loss: 0.0018933519022539258\n",
      "Epoch 75, Train Loss: 0.011991992127150297, Val Loss: 0.001886037876829505\n",
      "Epoch 76, Train Loss: 0.009482809342443943, Val Loss: 0.0018090064404532313\n",
      "Epoch 77, Train Loss: 0.013020830228924751, Val Loss: 0.0019214918138459325\n",
      "Epoch 78, Train Loss: 0.0125097562558949, Val Loss: 0.0022165083792060614\n",
      "Epoch 79, Train Loss: 0.011708535254001617, Val Loss: 0.0024764782283455133\n",
      "Epoch 80, Train Loss: 0.021871249191462994, Val Loss: 0.002775037894025445\n",
      "Epoch 81, Train Loss: 0.010860895039513707, Val Loss: 0.0028950879350304604\n",
      "Epoch 82, Train Loss: 0.01814310345798731, Val Loss: 0.0027793210465461016\n",
      "Epoch 83, Train Loss: 0.019573334604501724, Val Loss: 0.0023831187281757593\n",
      "Epoch 84, Train Loss: 0.011710306163877249, Val Loss: 0.002094581024721265\n",
      "Epoch 85, Train Loss: 0.011487388983368874, Val Loss: 0.0018697986379265785\n",
      "Epoch 86, Train Loss: 0.011240403167903423, Val Loss: 0.0015581035986542702\n",
      "Epoch 87, Train Loss: 0.01295984536409378, Val Loss: 0.001261577825061977\n",
      "Epoch 88, Train Loss: 0.005479122512042522, Val Loss: 0.0012010367354378104\n",
      "Epoch 89, Train Loss: 0.006338591920211911, Val Loss: 0.001269986853003502\n",
      "Epoch 90, Train Loss: 0.02174481190741062, Val Loss: 0.0013765143230557442\n",
      "Epoch 91, Train Loss: 0.008658592589199543, Val Loss: 0.0010176515206694603\n",
      "Epoch 92, Train Loss: 0.011052297661080956, Val Loss: 0.0011258427985012531\n",
      "Epoch 93, Train Loss: 0.009782530600205064, Val Loss: 0.0012568288948386908\n",
      "Epoch 94, Train Loss: 0.009803196182474494, Val Loss: 0.001388931181281805\n",
      "Epoch 95, Train Loss: 0.007784420857205987, Val Loss: 0.0016103481175377965\n",
      "Epoch 96, Train Loss: 0.009801799431443214, Val Loss: 0.0015862719155848026\n",
      "Epoch 97, Train Loss: 0.006950103910639882, Val Loss: 0.001357760513201356\n",
      "Epoch 98, Train Loss: 0.011622859630733728, Val Loss: 0.0012784578138962388\n",
      "Epoch 99, Train Loss: 0.006399986916221678, Val Loss: 0.001393890823237598\n",
      "Epoch 100, Train Loss: 0.006214495282620192, Val Loss: 1.6342272758483887\n",
      "Finished Training\n"
     ]
    }
   ],
   "source": [
    "# Instantiate the network\n",
    "model = SimpleCNN()\n",
    "\n",
    "# Define the loss function and optimizer\n",
    "criterion = nn.BCELoss()\n",
    "optimizer = optim.Adam(model.parameters(), lr=0.001, weight_decay=0.0001)\n",
    "\n",
    "# Move the model to the device\n",
    "model.to(device)\n",
    "model.train()\n",
    "\n",
    "train_losses, val_losses = train_model(model, train_data, criterion, optimizer, device, n_epochs=100)"
   ]
  },
  {
   "cell_type": "code",
   "execution_count": 15,
   "metadata": {},
   "outputs": [
    {
     "data": {
      "image/png": "[encoded data removed]",
      "text/plain": [
       "<Figure size 1000x500 with 1 Axes>"
      ]
     },
     "metadata": {},
     "output_type": "display_data"
    }
   ],
   "source": [
    "# Visualize the training loss over epochs\n",
    "plt.figure(figsize=(10,5))\n",
    "plt.title(\"Training and Validation Loss per Epoch\")\n",
    "plt.plot(train_losses, label='Training Loss')\n",
    "plt.plot(val_losses, label='Validation Loss')\n",
    "plt.xlabel(\"Epochs\")\n",
    "plt.ylabel(\"Loss\")\n",
    "plt.legend()\n",
    "plt.show()"
   ]
  },
  {
   "cell_type": "markdown",
   "metadata": {},
   "source": [
    "# Test the CNN Model\n",
    "Test the trained CNN model on the test set."
   ]
  },
  {
   "cell_type": "code",
   "execution_count": 20,
   "metadata": {},
   "outputs": [],
   "source": [
    "def test_model(model, test_data, device):\n",
    "    test_loader = DataLoader(test_data, batch_size=64, shuffle=False)\n",
    "    model.eval()\n",
    "    model.to(device)\n",
    "    correct = 0\n",
    "    total = 0\n",
    "    with torch.no_grad():\n",
    "        for data in test_loader:\n",
    "            images, labels = data\n",
    "            images, labels = images.to(device), labels.to(device).float()\n",
    "            outputs = model(images)\n",
    "            predicted = torch.round(outputs)\n",
    "            total += labels.size(0)\n",
    "            correct += (predicted == labels).sum().item()\n",
    "\n",
    "    accuracy = 100 * correct / total\n",
    "   \n",
    "    return accuracy"
   ]
  },
  {
   "cell_type": "code",
   "execution_count": 21,
   "metadata": {},
   "outputs": [
    {
     "name": "stdout",
     "output_type": "stream",
     "text": [
      "Accuracy of the model on the test images: 50.0%\n"
     ]
    }
   ],
   "source": [
    "accuracy = test_model(model, test_data, device)\n",
    "print(f'Accuracy of the model on the test images: {accuracy}%')\n",
    "\n",
    "torch.save(model.state_dict(), 'models/simple_model.pth')"
   ]
  },
  {
   "cell_type": "markdown",
   "metadata": {},
   "source": [
    "# Hyperparameter Selection\n",
    "Choose five hyperparameters to tune."
   ]
  },
  {
   "cell_type": "code",
   "execution_count": null,
   "metadata": {},
   "outputs": [],
   "source": []
  },
  {
   "cell_type": "markdown",
   "metadata": {},
   "source": [
    "# Hyperparameter Optimization with Random Search\n",
    "Use random search to tune the chosen hyperparameters."
   ]
  },
  {
   "cell_type": "code",
   "execution_count": null,
   "metadata": {},
   "outputs": [],
   "source": []
  },
  {
   "cell_type": "markdown",
   "metadata": {},
   "source": [
    "# Hyperparameter Optimization with Sophisticated Method\n",
    "Use a more sophisticated method than random search to tune the chosen hyperparameters."
   ]
  },
  {
   "cell_type": "code",
   "execution_count": null,
   "metadata": {},
   "outputs": [],
   "source": []
  },
  {
   "cell_type": "markdown",
   "metadata": {},
   "source": [
    "# 5-Fold Cross-Validation\n",
    "Perform 5-fold cross-validation on the training set to calculate the validation accuracy for the hyperparameters."
   ]
  },
  {
   "cell_type": "code",
   "execution_count": null,
   "metadata": {},
   "outputs": [],
   "source": []
  },
  {
   "cell_type": "markdown",
   "metadata": {},
   "source": [
    "# Compare Results Before and After Hyperparameter Optimization\n",
    "Compare the results obtained before and after automatic hyperparameter optimization in terms of accuracy."
   ]
  },
  {
   "cell_type": "code",
   "execution_count": null,
   "metadata": {},
   "outputs": [],
   "source": []
  },
  {
   "cell_type": "markdown",
   "metadata": {},
   "source": [
    "# Save Model Weights Before and After Hyperparameter Tuning\n",
    "Save the trained model weights before and after hyperparameter tuning."
   ]
  },
  {
   "cell_type": "code",
   "execution_count": null,
   "metadata": {},
   "outputs": [],
   "source": []
  }
 ],
 "metadata": {
  "kernelspec": {
   "display_name": "1BM120",
   "language": "python",
   "name": "python3"
  },
  "language_info": {
   "codemirror_mode": {
    "name": "ipython",
    "version": 3
   },
   "file_extension": ".py",
   "mimetype": "text/x-python",
   "name": "python",
   "nbconvert_exporter": "python",
   "pygments_lexer": "ipython3",
   "version": "3.11.8"
  }
 },
 "nbformat": 4,
 "nbformat_minor": 2
}
