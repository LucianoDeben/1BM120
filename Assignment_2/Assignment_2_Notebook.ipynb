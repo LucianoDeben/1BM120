{
 "cells": [
  {
   "cell_type": "markdown",
   "metadata": {},
   "source": [
    "# Assignment 2: Convolutional Neural Networks and AutoML\n",
    "---"
   ]
  },
  {
   "cell_type": "markdown",
   "metadata": {},
   "source": [
    "### Import Required Libraries\n",
    "Import the necessary libraries, including PyTorch and the chosen hyperparameter optimization library. Also import local modules and set global variables."
   ]
  },
  {
   "cell_type": "code",
   "execution_count": 1,
   "metadata": {},
   "outputs": [],
   "source": [
    "# Importing necessary libraries\n",
    "import torch\n",
    "import torch.nn as nn\n",
    "import torch.optim as optim\n",
    "from torch.utils.data import DataLoader, random_split\n",
    "from support import load_dataset\n",
    "import matplotlib.pyplot as plt\n",
    "import pandas as pd\n",
    "import optuna\n",
    "from model import SimpleCNN\n",
    "from train_test_optimize import train_model, test_model, objective_with_cv\n",
    "from functools import partial\n",
    "import numpy as np"
   ]
  },
  {
   "cell_type": "code",
   "execution_count": 2,
   "metadata": {},
   "outputs": [
    {
     "name": "stdout",
     "output_type": "stream",
     "text": [
      "Device: cuda\n"
     ]
    }
   ],
   "source": [
    "# Define global parameters\n",
    "EPOCHS = 25\n",
    "N_TRIALS = 2\n",
    "MODEL = SimpleCNN\n",
    "DEVICE = torch.device('cuda' if torch.cuda.is_available() else 'cpu')\n",
    "print(f\"Device: {DEVICE}\")"
   ]
  },
  {
   "cell_type": "markdown",
   "metadata": {},
   "source": [
    "### Load and Preprocess the Wefabricate Dataset\n",
    "Load the Wefabricate dataset and preprocess it for use with a CNN. Preprocessing is handles by the `load_dataset` function from `support.py`."
   ]
  },
  {
   "cell_type": "code",
   "execution_count": 3,
   "metadata": {},
   "outputs": [
    {
     "name": "stdout",
     "output_type": "stream",
     "text": [
      "Train data: 136\n",
      "Test data: 34\n"
     ]
    }
   ],
   "source": [
    "train_data, test_data = load_dataset()\n",
    "\n",
    "print(f\"Train data: {len(train_data)}\")\n",
    "print(f\"Test data: {len(test_data)}\")"
   ]
  },
  {
   "cell_type": "markdown",
   "metadata": {},
   "source": [
    "### Visualize data with their labels\n",
    "Check a few samples from the train loader to see wheter the labels match the images."
   ]
  },
  {
   "cell_type": "code",
   "execution_count": 4,
   "metadata": {},
   "outputs": [
    {
     "data": {
      "image/png": "[encoded data removed]",
      "text/plain": [
       "<Figure size 1500x1500 with 5 Axes>"
      ]
     },
     "metadata": {},
     "output_type": "display_data"
    }
   ],
   "source": [
    "# Define the class labels \n",
    "class_labels = [\"Defect\", \"No Defect\"]\n",
    "\n",
    "# Get a batch of training data\n",
    "train_loader = DataLoader(train_data, batch_size=16, shuffle=True, drop_last=True)\n",
    "images, labels = next(iter(train_loader))\n",
    "\n",
    "# Create a grid of the images and print the labels\n",
    "plt.figure(figsize=(15, 15))\n",
    "for i in range(5):\n",
    "    plt.subplot(5, 5, i + 1)\n",
    "    plt.imshow(np.transpose(images[i], (1, 2, 0)))\n",
    "    plt.axis('off')\n",
    "    plt.title(class_labels[labels[i]])\n",
    "    \n",
    "plt.show()"
   ]
  },
  {
   "cell_type": "markdown",
   "metadata": {},
   "source": [
    "### Define the CNN Model\n",
    "Define a CNN to classify product images in the Wefabricate dataset. The `SimpleCNN` model class is defined in `model.py`."
   ]
  },
  {
   "cell_type": "code",
   "execution_count": 5,
   "metadata": {},
   "outputs": [],
   "source": [
    "# Instantiate the network\n",
    "model = SimpleCNN(dropout_rate=0.25)"
   ]
  },
  {
   "cell_type": "markdown",
   "metadata": {},
   "source": [
    "### Train the CNN Model\n",
    "Train the CNN model on the training set. First define the loss and optimizer functions and ensure model is on DEVICE (GPU, if available). The `train_model` function is defined in `train_test_optimize`, which saves models with the `model_name` prefix to the `models/` folder."
   ]
  },
  {
   "cell_type": "code",
   "execution_count": 6,
   "metadata": {},
   "outputs": [
    {
     "name": "stderr",
     "output_type": "stream",
     "text": [
      "Training Epoch 1/25: 100%|██████████| 2/2 [00:06<00:00,  3.28s/it]\n"
     ]
    },
    {
     "name": "stdout",
     "output_type": "stream",
     "text": [
      "Epoch 1, Train Loss: 0.7022, Val Loss: 0.6971, Train Acc: 55.56%, Val Acc: 50.00%\n"
     ]
    },
    {
     "name": "stderr",
     "output_type": "stream",
     "text": [
      "Training Epoch 2/25: 100%|██████████| 2/2 [00:05<00:00,  3.00s/it]\n"
     ]
    },
    {
     "name": "stdout",
     "output_type": "stream",
     "text": [
      "Epoch 2, Train Loss: 0.6958, Val Loss: 0.6952, Train Acc: 51.85%, Val Acc: 50.00%\n"
     ]
    },
    {
     "name": "stderr",
     "output_type": "stream",
     "text": [
      "Training Epoch 3/25: 100%|██████████| 2/2 [00:05<00:00,  2.95s/it]\n"
     ]
    },
    {
     "name": "stdout",
     "output_type": "stream",
     "text": [
      "Epoch 3, Train Loss: 0.7061, Val Loss: 0.6882, Train Acc: 46.30%, Val Acc: 50.00%\n"
     ]
    },
    {
     "name": "stderr",
     "output_type": "stream",
     "text": [
      "Training Epoch 4/25: 100%|██████████| 2/2 [00:06<00:00,  3.09s/it]\n"
     ]
    },
    {
     "name": "stdout",
     "output_type": "stream",
     "text": [
      "Epoch 4, Train Loss: 0.6771, Val Loss: 0.6850, Train Acc: 54.63%, Val Acc: 53.57%\n"
     ]
    },
    {
     "name": "stderr",
     "output_type": "stream",
     "text": [
      "Training Epoch 5/25: 100%|██████████| 2/2 [00:05<00:00,  2.95s/it]\n"
     ]
    },
    {
     "name": "stdout",
     "output_type": "stream",
     "text": [
      "Epoch 5, Train Loss: 0.6753, Val Loss: 0.6825, Train Acc: 57.41%, Val Acc: 46.43%\n"
     ]
    },
    {
     "name": "stderr",
     "output_type": "stream",
     "text": [
      "Training Epoch 6/25: 100%|██████████| 2/2 [00:05<00:00,  2.95s/it]\n"
     ]
    },
    {
     "name": "stdout",
     "output_type": "stream",
     "text": [
      "Epoch 6, Train Loss: 0.6568, Val Loss: 0.6766, Train Acc: 58.33%, Val Acc: 64.29%\n"
     ]
    },
    {
     "name": "stderr",
     "output_type": "stream",
     "text": [
      "Training Epoch 7/25: 100%|██████████| 2/2 [00:06<00:00,  3.08s/it]\n"
     ]
    },
    {
     "name": "stdout",
     "output_type": "stream",
     "text": [
      "Epoch 7, Train Loss: 0.6714, Val Loss: 0.6741, Train Acc: 59.26%, Val Acc: 64.29%\n"
     ]
    },
    {
     "name": "stderr",
     "output_type": "stream",
     "text": [
      "Training Epoch 8/25: 100%|██████████| 2/2 [00:05<00:00,  2.96s/it]\n"
     ]
    },
    {
     "name": "stdout",
     "output_type": "stream",
     "text": [
      "Epoch 8, Train Loss: 0.6752, Val Loss: 0.6714, Train Acc: 57.41%, Val Acc: 57.14%\n"
     ]
    },
    {
     "name": "stderr",
     "output_type": "stream",
     "text": [
      "Training Epoch 9/25: 100%|██████████| 2/2 [00:06<00:00,  3.00s/it]\n"
     ]
    },
    {
     "name": "stdout",
     "output_type": "stream",
     "text": [
      "Epoch 9, Train Loss: 0.6621, Val Loss: 0.6629, Train Acc: 62.96%, Val Acc: 78.57%\n"
     ]
    },
    {
     "name": "stderr",
     "output_type": "stream",
     "text": [
      "Training Epoch 10/25: 100%|██████████| 2/2 [00:05<00:00,  2.94s/it]\n"
     ]
    },
    {
     "name": "stdout",
     "output_type": "stream",
     "text": [
      "Epoch 10, Train Loss: 0.6454, Val Loss: 0.6574, Train Acc: 68.52%, Val Acc: 75.00%\n"
     ]
    },
    {
     "name": "stderr",
     "output_type": "stream",
     "text": [
      "Training Epoch 11/25: 100%|██████████| 2/2 [00:05<00:00,  2.95s/it]\n"
     ]
    },
    {
     "name": "stdout",
     "output_type": "stream",
     "text": [
      "Epoch 11, Train Loss: 0.6119, Val Loss: 0.6533, Train Acc: 69.44%, Val Acc: 67.86%\n"
     ]
    },
    {
     "name": "stderr",
     "output_type": "stream",
     "text": [
      "Training Epoch 12/25: 100%|██████████| 2/2 [00:05<00:00,  2.99s/it]\n"
     ]
    },
    {
     "name": "stdout",
     "output_type": "stream",
     "text": [
      "Epoch 12, Train Loss: 0.6316, Val Loss: 0.6488, Train Acc: 66.67%, Val Acc: 60.71%\n"
     ]
    },
    {
     "name": "stderr",
     "output_type": "stream",
     "text": [
      "Training Epoch 13/25: 100%|██████████| 2/2 [00:05<00:00,  2.93s/it]\n"
     ]
    },
    {
     "name": "stdout",
     "output_type": "stream",
     "text": [
      "Epoch 13, Train Loss: 0.6264, Val Loss: 0.6443, Train Acc: 72.22%, Val Acc: 75.00%\n"
     ]
    },
    {
     "name": "stderr",
     "output_type": "stream",
     "text": [
      "Training Epoch 14/25: 100%|██████████| 2/2 [00:05<00:00,  2.97s/it]\n"
     ]
    },
    {
     "name": "stdout",
     "output_type": "stream",
     "text": [
      "Epoch 14, Train Loss: 0.6236, Val Loss: 0.6400, Train Acc: 66.67%, Val Acc: 71.43%\n"
     ]
    },
    {
     "name": "stderr",
     "output_type": "stream",
     "text": [
      "Training Epoch 15/25: 100%|██████████| 2/2 [00:05<00:00,  2.95s/it]\n"
     ]
    },
    {
     "name": "stdout",
     "output_type": "stream",
     "text": [
      "Epoch 15, Train Loss: 0.5988, Val Loss: 0.6357, Train Acc: 69.44%, Val Acc: 75.00%\n"
     ]
    },
    {
     "name": "stderr",
     "output_type": "stream",
     "text": [
      "Training Epoch 16/25: 100%|██████████| 2/2 [00:05<00:00,  2.94s/it]\n"
     ]
    },
    {
     "name": "stdout",
     "output_type": "stream",
     "text": [
      "Epoch 16, Train Loss: 0.6479, Val Loss: 0.6320, Train Acc: 64.81%, Val Acc: 75.00%\n"
     ]
    },
    {
     "name": "stderr",
     "output_type": "stream",
     "text": [
      "Training Epoch 17/25: 100%|██████████| 2/2 [00:05<00:00,  2.95s/it]\n"
     ]
    },
    {
     "name": "stdout",
     "output_type": "stream",
     "text": [
      "Epoch 17, Train Loss: 0.6138, Val Loss: 0.6270, Train Acc: 75.00%, Val Acc: 75.00%\n"
     ]
    },
    {
     "name": "stderr",
     "output_type": "stream",
     "text": [
      "Training Epoch 18/25: 100%|██████████| 2/2 [00:05<00:00,  2.94s/it]\n"
     ]
    },
    {
     "name": "stdout",
     "output_type": "stream",
     "text": [
      "Epoch 18, Train Loss: 0.5848, Val Loss: 0.6206, Train Acc: 74.07%, Val Acc: 75.00%\n"
     ]
    },
    {
     "name": "stderr",
     "output_type": "stream",
     "text": [
      "Training Epoch 19/25: 100%|██████████| 2/2 [00:05<00:00,  2.93s/it]\n"
     ]
    },
    {
     "name": "stdout",
     "output_type": "stream",
     "text": [
      "Epoch 19, Train Loss: 0.5617, Val Loss: 0.6141, Train Acc: 73.15%, Val Acc: 71.43%\n"
     ]
    },
    {
     "name": "stderr",
     "output_type": "stream",
     "text": [
      "Training Epoch 20/25: 100%|██████████| 2/2 [00:05<00:00,  2.92s/it]\n"
     ]
    },
    {
     "name": "stdout",
     "output_type": "stream",
     "text": [
      "Epoch 20, Train Loss: 0.5330, Val Loss: 0.6085, Train Acc: 81.48%, Val Acc: 75.00%\n"
     ]
    },
    {
     "name": "stderr",
     "output_type": "stream",
     "text": [
      "Training Epoch 21/25: 100%|██████████| 2/2 [00:05<00:00,  2.92s/it]\n"
     ]
    },
    {
     "name": "stdout",
     "output_type": "stream",
     "text": [
      "Epoch 21, Train Loss: 0.5602, Val Loss: 0.6046, Train Acc: 77.78%, Val Acc: 75.00%\n"
     ]
    },
    {
     "name": "stderr",
     "output_type": "stream",
     "text": [
      "Training Epoch 22/25: 100%|██████████| 2/2 [00:06<00:00,  3.03s/it]\n"
     ]
    },
    {
     "name": "stdout",
     "output_type": "stream",
     "text": [
      "Epoch 22, Train Loss: 0.5094, Val Loss: 0.6014, Train Acc: 83.33%, Val Acc: 75.00%\n"
     ]
    },
    {
     "name": "stderr",
     "output_type": "stream",
     "text": [
      "Training Epoch 23/25: 100%|██████████| 2/2 [00:06<00:00,  3.01s/it]\n"
     ]
    },
    {
     "name": "stdout",
     "output_type": "stream",
     "text": [
      "Epoch 23, Train Loss: 0.5322, Val Loss: 0.5987, Train Acc: 79.63%, Val Acc: 71.43%\n"
     ]
    },
    {
     "name": "stderr",
     "output_type": "stream",
     "text": [
      "Training Epoch 24/25: 100%|██████████| 2/2 [00:05<00:00,  2.96s/it]\n"
     ]
    },
    {
     "name": "stdout",
     "output_type": "stream",
     "text": [
      "Epoch 24, Train Loss: 0.5157, Val Loss: 0.5962, Train Acc: 77.78%, Val Acc: 71.43%\n"
     ]
    },
    {
     "name": "stderr",
     "output_type": "stream",
     "text": [
      "Training Epoch 25/25: 100%|██████████| 2/2 [00:05<00:00,  2.95s/it]\n"
     ]
    },
    {
     "name": "stdout",
     "output_type": "stream",
     "text": [
      "Epoch 25, Train Loss: 0.5302, Val Loss: 0.5941, Train Acc: 78.70%, Val Acc: 71.43%\n",
      "Finished Training\n"
     ]
    }
   ],
   "source": [
    "# Define the loss function and optimizer\n",
    "criterion = nn.BCELoss()\n",
    "optimizer = optim.Adam(model.parameters(), lr=0.001, weight_decay=0.0001)\n",
    "\n",
    "# Move the model to the device\n",
    "model.to(DEVICE)\n",
    "\n",
    "# Train the model\n",
    "train_losses, val_losses = train_model(model, train_data, criterion, optimizer, DEVICE, n_epochs=EPOCHS, model_name=\"initial_model\", val_split=0.2)"
   ]
  },
  {
   "cell_type": "markdown",
   "metadata": {},
   "source": [
    "### Visualize the training and validation loss over epochs\n",
    "Visualizing the train and validation loss allows for identifying potential problems the learning rate or model complexity. Additionally, overfitting can be identified when the validation loss divergences from the training loss after certain epochs."
   ]
  },
  {
   "cell_type": "code",
   "execution_count": 7,
   "metadata": {},
   "outputs": [
    {
     "data": {
      "image/png": "[encoded data removed]",
      "text/plain": [
       "<Figure size 1000x500 with 1 Axes>"
      ]
     },
     "metadata": {},
     "output_type": "display_data"
    }
   ],
   "source": [
    "# Visualize the training loss over epochs\n",
    "plt.figure(figsize=(10, 5))\n",
    "plt.title(\"Training and Validation Loss per Epoch\")\n",
    "plt.plot(train_losses, label='Training Loss')\n",
    "plt.plot(val_losses, label='Validation Loss')\n",
    "plt.xlabel(\"Epochs\")\n",
    "plt.ylabel(\"Loss\")\n",
    "plt.legend()\n",
    "plt.show()"
   ]
  },
  {
   "cell_type": "markdown",
   "metadata": {},
   "source": [
    "### Test the CNN Model\n",
    "Test the trained CNN model on the test set and calculate performace metrics. The `test_model` function is defined in the `train_test_optimize.py` module."
   ]
  },
  {
   "cell_type": "code",
   "execution_count": 8,
   "metadata": {},
   "outputs": [
    {
     "name": "stderr",
     "output_type": "stream",
     "text": [
      "Testing: 100%|██████████| 1/1 [00:01<00:00,  1.95s/it]"
     ]
    },
    {
     "name": "stdout",
     "output_type": "stream",
     "text": [
      "   Accuracy  Precision    Recall        F1\n",
      "0  0.617647   0.611111  0.647059  0.628571\n"
     ]
    },
    {
     "name": "stderr",
     "output_type": "stream",
     "text": [
      "\n"
     ]
    }
   ],
   "source": [
    "# Test model on the test data and get metrics\n",
    "accuracy, precision, recall, f1 = test_model(model, test_data, DEVICE)\n",
    "\n",
    "# Visualize the metrics in a table\n",
    "metrics = pd.DataFrame({\n",
    "    'Accuracy': [accuracy],\n",
    "    'Precision': [precision],\n",
    "    'Recall': [recall],\n",
    "    'F1': [f1]\n",
    "})\n",
    "\n",
    "print(metrics)"
   ]
  },
  {
   "cell_type": "markdown",
   "metadata": {},
   "source": [
    "### Hyperparameter Selection\n",
    "First hyperparameters of interest are described after which both random search and Tree-structured Parzen Estimator (TPE) search HPO is performed with a 5-fold cross-validation scheme."
   ]
  },
  {
   "cell_type": "markdown",
   "metadata": {},
   "source": [
    "#### 1) Learning Rate\n",
    "\n",
    "**Importance:**  \n",
    "The learning rate is fundamental as it determines how much to update the model's weights based on the error each time the model weights are updated. If set too high, the model might overshoot the minimum, leading to erratic behaviors. If too low, the model could take too long to converge or might get stuck in a local minimum.\n",
    "\n",
    "**Relevance to Wefabricate:**  \n",
    "Given that we are dealing with a small dataset (136 training images), an optimal learning rate is crucial to ensure efficient convergence without overshooting, as CNNs are sensitive to this parameter in such scenarios.\n",
    "\n",
    "#### 2) Batch Size\n",
    "\n",
    "**Importance:**  \n",
    "The batch size affects the stability of the training process. Larger batch sizes result in smoother (less noisy) gradient estimates, but are computationally more demanding and can lead to poorer generalization. Smaller batches can offer a regularizing effect and lower generalization error.\n",
    "\n",
    "**Relevance to Wefabricate:**  \n",
    "Adjusting the batch size can help balance between computation efficiency and model performance, especially when resources are limited or when the dataset is small, as is the case in the Wefabricate dataset.\n",
    "\n",
    "#### 3) Dropout rate\n",
    "\n",
    "**Importance:**\n",
    "This parameter controls the fraction of neurons that are randomly dropped out during training to prevent overfitting. A higher dropout rate means more neurons are ignored during each forward and backward pass, which helps in regularizing the model and improving its generalization capabilities. However, if the dropout rate is too high, the model might underfit, failing to learn important patterns in the data.\n",
    "\n",
    "**Relevance to Wefabricate:**\n",
    "Optimal dropout rate setting ensures that the model remains robust and generalizes well to new, unseen images by preventing it from memorizing the noise in the training data. This is particularly important given the limited data available, as it helps the model learn meaningful patterns without overfitting.\n",
    "\n",
    "#### 4) Weight Decay\n",
    "\n",
    "**Importance:**  \n",
    "Weight decay (L2 regularization) helps prevent overfitting by penalizing large weights. This regularization method encourages simpler models that may generalize better on unseen data.\n",
    "\n",
    "**Relevance to Wefabricate:**  \n",
    "With a relatively small dataset and a potentially complex model, weight decay can help maintain the balance between bias and variance, thus improving the model's general performance on new, unseen images.\n",
    "\n",
    "#### 5) Optimizer\n",
    "\n",
    "**Importance:**  \n",
    "The choice of optimizer can significantly affect the training speed and quality of the final model. Different optimizers can manage different types of data and architectures more effectively, with some being better at handling noisy gradients or avoiding local minima.\n",
    "\n",
    "**Relevance to Wefabricate:**  \n",
    "Given the task's sensitivity to hyperparameter settings due to the small data size, choosing the right optimizer (like Adam, which is generally robust, or SGD, which might benefit from fine-grained control over learning momentum) can lead to better or faster convergence in training the CNN.\n"
   ]
  },
  {
   "cell_type": "markdown",
   "metadata": {},
   "source": [
    "### 5-Fold Cross-Validation Hyperparameter Optimization with Optuna\n",
    "Perform 5-fold cross-validation on the training set to calculate the validation accuracy for the hyperparameters. The optimal hyperparameters are selected."
   ]
  },
  {
   "cell_type": "code",
   "execution_count": 9,
   "metadata": {},
   "outputs": [],
   "source": [
    "# Create the objective function with partial\n",
    "objective = partial(objective_with_cv, n_epochs=EPOCHS, model_class=MODEL, train_data=train_data, device=DEVICE)"
   ]
  },
  {
   "cell_type": "code",
   "execution_count": 11,
   "metadata": {},
   "outputs": [
    {
     "name": "stderr",
     "output_type": "stream",
     "text": [
      "[I 2024-06-03 15:07:20,650] A new study created in memory with name: no-name-dbbd99da-8d8e-4ea5-b04a-0e82db8f0761\n",
      "[I 2024-06-03 15:19:31,743] Trial 0 finished with value: 53.70370370370371 and parameters: {'learning_rate': 0.00011030298283594748, 'batch_size': 8, 'dropout_rate': 0.11630456603703992, 'weight_decay': 1.1850511911700067e-05, 'optimizer': 'Adam'}. Best is trial 0 with value: 53.70370370370371.\n",
      "[I 2024-06-03 15:31:28,453] Trial 1 finished with value: 58.14814814814815 and parameters: {'learning_rate': 0.0002749532807375363, 'batch_size': 16, 'dropout_rate': 0.1172542258695814, 'weight_decay': 2.4102543496983198e-05, 'optimizer': 'Adam'}. Best is trial 1 with value: 58.14814814814815.\n"
     ]
    }
   ],
   "source": [
    "# Random search with Optuna\n",
    "study_random = optuna.create_study(direction='maximize', sampler=optuna.samplers.RandomSampler())\n",
    "study_random.optimize(objective, n_trials=N_TRIALS)\n",
    "best_params_random = study_random.best_trial.params"
   ]
  },
  {
   "cell_type": "code",
   "execution_count": 10,
   "metadata": {},
   "outputs": [
    {
     "name": "stderr",
     "output_type": "stream",
     "text": [
      "[I 2024-06-03 14:42:48,658] A new study created in memory with name: no-name-83c0e29c-8e9e-4291-8433-555ca062c1c4\n",
      "[I 2024-06-03 14:55:17,393] Trial 0 finished with value: 11.851851851851851 and parameters: {'learning_rate': 1.0802952792192345e-05, 'batch_size': 16, 'dropout_rate': 0.050122629069835334, 'weight_decay': 3.282827952533733e-05, 'optimizer': 'RMSprop'}. Best is trial 0 with value: 11.851851851851851.\n",
      "[I 2024-06-03 15:07:20,642] Trial 1 finished with value: 9.62962962962963 and parameters: {'learning_rate': 0.006929186243924538, 'batch_size': 64, 'dropout_rate': 0.30468428995580954, 'weight_decay': 0.0007861040537713564, 'optimizer': 'RMSprop'}. Best is trial 0 with value: 11.851851851851851.\n"
     ]
    }
   ],
   "source": [
    "# TPE search with Optuna\n",
    "study_tpe = optuna.create_study(direction='maximize', sampler=optuna.samplers.TPESampler())\n",
    "study_tpe.optimize(objective, n_trials=N_TRIALS)\n",
    "best_params_tpe = study_tpe.best_trial.params"
   ]
  },
  {
   "cell_type": "markdown",
   "metadata": {},
   "source": [
    "### Compare Results Before and After Hyperparameter Optimization\n",
    "Compare the results obtained before and after automatic hyperparameter optimization in terms of accuracy, for the default model, the random search HPO model and the TPE search HPO model."
   ]
  },
  {
   "cell_type": "code",
   "execution_count": 12,
   "metadata": {},
   "outputs": [
    {
     "name": "stderr",
     "output_type": "stream",
     "text": [
      "Training Epoch 1/25: 100%|██████████| 2/2 [00:06<00:00,  3.16s/it]\n"
     ]
    },
    {
     "name": "stdout",
     "output_type": "stream",
     "text": [
      "Epoch 1, Train Loss: 0.6927, Val Loss: 0.6923, Train Acc: 54.10%, Val Acc: 50.00%\n"
     ]
    },
    {
     "name": "stderr",
     "output_type": "stream",
     "text": [
      "Training Epoch 2/25: 100%|██████████| 2/2 [00:06<00:00,  3.18s/it]\n"
     ]
    },
    {
     "name": "stdout",
     "output_type": "stream",
     "text": [
      "Epoch 2, Train Loss: 0.6480, Val Loss: 0.6867, Train Acc: 65.57%, Val Acc: 50.00%\n"
     ]
    },
    {
     "name": "stderr",
     "output_type": "stream",
     "text": [
      "Training Epoch 3/25: 100%|██████████| 2/2 [00:06<00:00,  3.18s/it]\n"
     ]
    },
    {
     "name": "stdout",
     "output_type": "stream",
     "text": [
      "Epoch 3, Train Loss: 0.7226, Val Loss: 0.6815, Train Acc: 46.72%, Val Acc: 78.57%\n"
     ]
    },
    {
     "name": "stderr",
     "output_type": "stream",
     "text": [
      "Training Epoch 4/25: 100%|██████████| 2/2 [00:06<00:00,  3.18s/it]\n"
     ]
    },
    {
     "name": "stdout",
     "output_type": "stream",
     "text": [
      "Epoch 4, Train Loss: 0.7032, Val Loss: 0.6789, Train Acc: 54.10%, Val Acc: 78.57%\n"
     ]
    },
    {
     "name": "stderr",
     "output_type": "stream",
     "text": [
      "Training Epoch 5/25: 100%|██████████| 2/2 [00:06<00:00,  3.19s/it]\n"
     ]
    },
    {
     "name": "stdout",
     "output_type": "stream",
     "text": [
      "Epoch 5, Train Loss: 0.6623, Val Loss: 0.6765, Train Acc: 59.02%, Val Acc: 78.57%\n"
     ]
    },
    {
     "name": "stderr",
     "output_type": "stream",
     "text": [
      "Training Epoch 6/25: 100%|██████████| 2/2 [00:06<00:00,  3.18s/it]\n"
     ]
    },
    {
     "name": "stdout",
     "output_type": "stream",
     "text": [
      "Epoch 6, Train Loss: 0.7026, Val Loss: 0.6752, Train Acc: 52.46%, Val Acc: 78.57%\n"
     ]
    },
    {
     "name": "stderr",
     "output_type": "stream",
     "text": [
      "Training Epoch 7/25: 100%|██████████| 2/2 [00:06<00:00,  3.18s/it]\n"
     ]
    },
    {
     "name": "stdout",
     "output_type": "stream",
     "text": [
      "Epoch 7, Train Loss: 0.7020, Val Loss: 0.6748, Train Acc: 44.26%, Val Acc: 85.71%\n"
     ]
    },
    {
     "name": "stderr",
     "output_type": "stream",
     "text": [
      "Training Epoch 8/25: 100%|██████████| 2/2 [00:06<00:00,  3.19s/it]\n"
     ]
    },
    {
     "name": "stdout",
     "output_type": "stream",
     "text": [
      "Epoch 8, Train Loss: 0.6791, Val Loss: 0.6736, Train Acc: 59.84%, Val Acc: 85.71%\n"
     ]
    },
    {
     "name": "stderr",
     "output_type": "stream",
     "text": [
      "Training Epoch 9/25: 100%|██████████| 2/2 [00:06<00:00,  3.19s/it]\n"
     ]
    },
    {
     "name": "stdout",
     "output_type": "stream",
     "text": [
      "Epoch 9, Train Loss: 0.6847, Val Loss: 0.6719, Train Acc: 54.10%, Val Acc: 85.71%\n"
     ]
    },
    {
     "name": "stderr",
     "output_type": "stream",
     "text": [
      "Training Epoch 10/25: 100%|██████████| 2/2 [00:06<00:00,  3.20s/it]\n"
     ]
    },
    {
     "name": "stdout",
     "output_type": "stream",
     "text": [
      "Epoch 10, Train Loss: 0.6748, Val Loss: 0.6702, Train Acc: 58.20%, Val Acc: 78.57%\n"
     ]
    },
    {
     "name": "stderr",
     "output_type": "stream",
     "text": [
      "Training Epoch 11/25: 100%|██████████| 2/2 [00:06<00:00,  3.18s/it]\n"
     ]
    },
    {
     "name": "stdout",
     "output_type": "stream",
     "text": [
      "Epoch 11, Train Loss: 0.6589, Val Loss: 0.6684, Train Acc: 63.11%, Val Acc: 78.57%\n"
     ]
    },
    {
     "name": "stderr",
     "output_type": "stream",
     "text": [
      "Training Epoch 12/25: 100%|██████████| 2/2 [00:06<00:00,  3.17s/it]\n"
     ]
    },
    {
     "name": "stdout",
     "output_type": "stream",
     "text": [
      "Epoch 12, Train Loss: 0.6778, Val Loss: 0.6662, Train Acc: 55.74%, Val Acc: 78.57%\n"
     ]
    },
    {
     "name": "stderr",
     "output_type": "stream",
     "text": [
      "Training Epoch 13/25: 100%|██████████| 2/2 [00:06<00:00,  3.16s/it]\n"
     ]
    },
    {
     "name": "stdout",
     "output_type": "stream",
     "text": [
      "Epoch 13, Train Loss: 0.6738, Val Loss: 0.6638, Train Acc: 67.21%, Val Acc: 85.71%\n"
     ]
    },
    {
     "name": "stderr",
     "output_type": "stream",
     "text": [
      "Training Epoch 14/25: 100%|██████████| 2/2 [00:06<00:00,  3.16s/it]\n"
     ]
    },
    {
     "name": "stdout",
     "output_type": "stream",
     "text": [
      "Epoch 14, Train Loss: 0.6603, Val Loss: 0.6605, Train Acc: 64.75%, Val Acc: 78.57%\n"
     ]
    },
    {
     "name": "stderr",
     "output_type": "stream",
     "text": [
      "Training Epoch 15/25: 100%|██████████| 2/2 [00:06<00:00,  3.18s/it]\n"
     ]
    },
    {
     "name": "stdout",
     "output_type": "stream",
     "text": [
      "Epoch 15, Train Loss: 0.6631, Val Loss: 0.6579, Train Acc: 63.11%, Val Acc: 78.57%\n"
     ]
    },
    {
     "name": "stderr",
     "output_type": "stream",
     "text": [
      "Training Epoch 16/25: 100%|██████████| 2/2 [00:06<00:00,  3.25s/it]\n"
     ]
    },
    {
     "name": "stdout",
     "output_type": "stream",
     "text": [
      "Epoch 16, Train Loss: 0.6592, Val Loss: 0.6561, Train Acc: 59.84%, Val Acc: 78.57%\n"
     ]
    },
    {
     "name": "stderr",
     "output_type": "stream",
     "text": [
      "Training Epoch 17/25: 100%|██████████| 2/2 [00:06<00:00,  3.27s/it]\n"
     ]
    },
    {
     "name": "stdout",
     "output_type": "stream",
     "text": [
      "Epoch 17, Train Loss: 0.6337, Val Loss: 0.6531, Train Acc: 69.67%, Val Acc: 78.57%\n"
     ]
    },
    {
     "name": "stderr",
     "output_type": "stream",
     "text": [
      "Training Epoch 18/25: 100%|██████████| 2/2 [00:06<00:00,  3.26s/it]\n"
     ]
    },
    {
     "name": "stdout",
     "output_type": "stream",
     "text": [
      "Epoch 18, Train Loss: 0.6524, Val Loss: 0.6505, Train Acc: 63.11%, Val Acc: 78.57%\n"
     ]
    },
    {
     "name": "stderr",
     "output_type": "stream",
     "text": [
      "Training Epoch 19/25: 100%|██████████| 2/2 [00:06<00:00,  3.27s/it]\n"
     ]
    },
    {
     "name": "stdout",
     "output_type": "stream",
     "text": [
      "Epoch 19, Train Loss: 0.6624, Val Loss: 0.6487, Train Acc: 54.10%, Val Acc: 78.57%\n"
     ]
    },
    {
     "name": "stderr",
     "output_type": "stream",
     "text": [
      "Training Epoch 20/25: 100%|██████████| 2/2 [00:06<00:00,  3.26s/it]\n"
     ]
    },
    {
     "name": "stdout",
     "output_type": "stream",
     "text": [
      "Epoch 20, Train Loss: 0.6435, Val Loss: 0.6464, Train Acc: 67.21%, Val Acc: 78.57%\n"
     ]
    },
    {
     "name": "stderr",
     "output_type": "stream",
     "text": [
      "Training Epoch 21/25: 100%|██████████| 2/2 [00:06<00:00,  3.27s/it]\n"
     ]
    },
    {
     "name": "stdout",
     "output_type": "stream",
     "text": [
      "Epoch 21, Train Loss: 0.6320, Val Loss: 0.6444, Train Acc: 69.67%, Val Acc: 78.57%\n"
     ]
    },
    {
     "name": "stderr",
     "output_type": "stream",
     "text": [
      "Training Epoch 22/25: 100%|██████████| 2/2 [00:06<00:00,  3.25s/it]\n"
     ]
    },
    {
     "name": "stdout",
     "output_type": "stream",
     "text": [
      "Epoch 22, Train Loss: 0.6341, Val Loss: 0.6417, Train Acc: 71.31%, Val Acc: 78.57%\n"
     ]
    },
    {
     "name": "stderr",
     "output_type": "stream",
     "text": [
      "Training Epoch 23/25: 100%|██████████| 2/2 [00:06<00:00,  3.25s/it]\n"
     ]
    },
    {
     "name": "stdout",
     "output_type": "stream",
     "text": [
      "Epoch 23, Train Loss: 0.6511, Val Loss: 0.6387, Train Acc: 59.84%, Val Acc: 78.57%\n"
     ]
    },
    {
     "name": "stderr",
     "output_type": "stream",
     "text": [
      "Training Epoch 24/25: 100%|██████████| 2/2 [00:06<00:00,  3.26s/it]\n"
     ]
    },
    {
     "name": "stdout",
     "output_type": "stream",
     "text": [
      "Epoch 24, Train Loss: 0.6321, Val Loss: 0.6356, Train Acc: 67.21%, Val Acc: 78.57%\n"
     ]
    },
    {
     "name": "stderr",
     "output_type": "stream",
     "text": [
      "Training Epoch 25/25: 100%|██████████| 2/2 [00:06<00:00,  3.27s/it]\n"
     ]
    },
    {
     "name": "stdout",
     "output_type": "stream",
     "text": [
      "Epoch 25, Train Loss: 0.6271, Val Loss: 0.6332, Train Acc: 73.77%, Val Acc: 78.57%\n",
      "Finished Training\n"
     ]
    },
    {
     "name": "stderr",
     "output_type": "stream",
     "text": [
      "Testing: 100%|██████████| 1/1 [00:01<00:00,  1.79s/it]\n",
      "Training Epoch 1/25: 100%|██████████| 8/8 [00:06<00:00,  1.21it/s]\n"
     ]
    },
    {
     "name": "stdout",
     "output_type": "stream",
     "text": [
      "Epoch 1, Train Loss: 0.6903, Val Loss: 0.6889, Train Acc: 53.28%, Val Acc: 57.14%\n"
     ]
    },
    {
     "name": "stderr",
     "output_type": "stream",
     "text": [
      "Training Epoch 2/25: 100%|██████████| 8/8 [00:06<00:00,  1.22it/s]\n"
     ]
    },
    {
     "name": "stdout",
     "output_type": "stream",
     "text": [
      "Epoch 2, Train Loss: 0.6872, Val Loss: 0.6821, Train Acc: 56.56%, Val Acc: 92.86%\n"
     ]
    },
    {
     "name": "stderr",
     "output_type": "stream",
     "text": [
      "Training Epoch 3/25: 100%|██████████| 8/8 [00:06<00:00,  1.22it/s]\n"
     ]
    },
    {
     "name": "stdout",
     "output_type": "stream",
     "text": [
      "Epoch 3, Train Loss: 0.6851, Val Loss: 0.6785, Train Acc: 56.56%, Val Acc: 50.00%\n"
     ]
    },
    {
     "name": "stderr",
     "output_type": "stream",
     "text": [
      "Training Epoch 4/25: 100%|██████████| 8/8 [00:06<00:00,  1.22it/s]\n"
     ]
    },
    {
     "name": "stdout",
     "output_type": "stream",
     "text": [
      "Epoch 4, Train Loss: 0.6822, Val Loss: 0.6721, Train Acc: 55.74%, Val Acc: 64.29%\n"
     ]
    },
    {
     "name": "stderr",
     "output_type": "stream",
     "text": [
      "Training Epoch 5/25: 100%|██████████| 8/8 [00:06<00:00,  1.22it/s]\n"
     ]
    },
    {
     "name": "stdout",
     "output_type": "stream",
     "text": [
      "Epoch 5, Train Loss: 0.6619, Val Loss: 0.6665, Train Acc: 63.93%, Val Acc: 71.43%\n"
     ]
    },
    {
     "name": "stderr",
     "output_type": "stream",
     "text": [
      "Training Epoch 6/25: 100%|██████████| 8/8 [00:06<00:00,  1.22it/s]\n"
     ]
    },
    {
     "name": "stdout",
     "output_type": "stream",
     "text": [
      "Epoch 6, Train Loss: 0.6534, Val Loss: 0.6595, Train Acc: 68.85%, Val Acc: 57.14%\n"
     ]
    },
    {
     "name": "stderr",
     "output_type": "stream",
     "text": [
      "Training Epoch 7/25: 100%|██████████| 8/8 [00:06<00:00,  1.22it/s]\n"
     ]
    },
    {
     "name": "stdout",
     "output_type": "stream",
     "text": [
      "Epoch 7, Train Loss: 0.6630, Val Loss: 0.6526, Train Acc: 62.30%, Val Acc: 71.43%\n"
     ]
    },
    {
     "name": "stderr",
     "output_type": "stream",
     "text": [
      "Training Epoch 8/25: 100%|██████████| 8/8 [00:06<00:00,  1.22it/s]\n"
     ]
    },
    {
     "name": "stdout",
     "output_type": "stream",
     "text": [
      "Epoch 8, Train Loss: 0.6536, Val Loss: 0.6451, Train Acc: 68.03%, Val Acc: 85.71%\n"
     ]
    },
    {
     "name": "stderr",
     "output_type": "stream",
     "text": [
      "Training Epoch 9/25: 100%|██████████| 8/8 [00:06<00:00,  1.22it/s]\n"
     ]
    },
    {
     "name": "stdout",
     "output_type": "stream",
     "text": [
      "Epoch 9, Train Loss: 0.6467, Val Loss: 0.6339, Train Acc: 67.21%, Val Acc: 92.86%\n"
     ]
    },
    {
     "name": "stderr",
     "output_type": "stream",
     "text": [
      "Training Epoch 10/25: 100%|██████████| 8/8 [00:06<00:00,  1.22it/s]\n"
     ]
    },
    {
     "name": "stdout",
     "output_type": "stream",
     "text": [
      "Epoch 10, Train Loss: 0.6261, Val Loss: 0.6191, Train Acc: 73.77%, Val Acc: 85.71%\n"
     ]
    },
    {
     "name": "stderr",
     "output_type": "stream",
     "text": [
      "Training Epoch 11/25: 100%|██████████| 8/8 [00:06<00:00,  1.22it/s]\n"
     ]
    },
    {
     "name": "stdout",
     "output_type": "stream",
     "text": [
      "Epoch 11, Train Loss: 0.6029, Val Loss: 0.6071, Train Acc: 79.51%, Val Acc: 85.71%\n"
     ]
    },
    {
     "name": "stderr",
     "output_type": "stream",
     "text": [
      "Training Epoch 12/25: 100%|██████████| 8/8 [00:06<00:00,  1.23it/s]\n"
     ]
    },
    {
     "name": "stdout",
     "output_type": "stream",
     "text": [
      "Epoch 12, Train Loss: 0.5870, Val Loss: 0.5958, Train Acc: 79.51%, Val Acc: 85.71%\n"
     ]
    },
    {
     "name": "stderr",
     "output_type": "stream",
     "text": [
      "Training Epoch 13/25: 100%|██████████| 8/8 [00:06<00:00,  1.22it/s]\n"
     ]
    },
    {
     "name": "stdout",
     "output_type": "stream",
     "text": [
      "Epoch 13, Train Loss: 0.5790, Val Loss: 0.5825, Train Acc: 80.33%, Val Acc: 85.71%\n"
     ]
    },
    {
     "name": "stderr",
     "output_type": "stream",
     "text": [
      "Training Epoch 14/25: 100%|██████████| 8/8 [00:06<00:00,  1.22it/s]\n"
     ]
    },
    {
     "name": "stdout",
     "output_type": "stream",
     "text": [
      "Epoch 14, Train Loss: 0.5474, Val Loss: 0.5701, Train Acc: 79.51%, Val Acc: 92.86%\n"
     ]
    },
    {
     "name": "stderr",
     "output_type": "stream",
     "text": [
      "Training Epoch 15/25: 100%|██████████| 8/8 [00:06<00:00,  1.22it/s]\n"
     ]
    },
    {
     "name": "stdout",
     "output_type": "stream",
     "text": [
      "Epoch 15, Train Loss: 0.5477, Val Loss: 0.5569, Train Acc: 79.51%, Val Acc: 85.71%\n"
     ]
    },
    {
     "name": "stderr",
     "output_type": "stream",
     "text": [
      "Training Epoch 16/25: 100%|██████████| 8/8 [00:06<00:00,  1.22it/s]\n"
     ]
    },
    {
     "name": "stdout",
     "output_type": "stream",
     "text": [
      "Epoch 16, Train Loss: 0.5351, Val Loss: 0.5465, Train Acc: 84.43%, Val Acc: 92.86%\n"
     ]
    },
    {
     "name": "stderr",
     "output_type": "stream",
     "text": [
      "Training Epoch 17/25: 100%|██████████| 8/8 [00:06<00:00,  1.22it/s]\n"
     ]
    },
    {
     "name": "stdout",
     "output_type": "stream",
     "text": [
      "Epoch 17, Train Loss: 0.5279, Val Loss: 0.5371, Train Acc: 77.87%, Val Acc: 85.71%\n"
     ]
    },
    {
     "name": "stderr",
     "output_type": "stream",
     "text": [
      "Training Epoch 18/25: 100%|██████████| 8/8 [00:06<00:00,  1.22it/s]\n"
     ]
    },
    {
     "name": "stdout",
     "output_type": "stream",
     "text": [
      "Epoch 18, Train Loss: 0.5039, Val Loss: 0.5260, Train Acc: 81.97%, Val Acc: 85.71%\n"
     ]
    },
    {
     "name": "stderr",
     "output_type": "stream",
     "text": [
      "Training Epoch 19/25: 100%|██████████| 8/8 [00:06<00:00,  1.22it/s]\n"
     ]
    },
    {
     "name": "stdout",
     "output_type": "stream",
     "text": [
      "Epoch 19, Train Loss: 0.4982, Val Loss: 0.5164, Train Acc: 87.70%, Val Acc: 85.71%\n"
     ]
    },
    {
     "name": "stderr",
     "output_type": "stream",
     "text": [
      "Training Epoch 20/25: 100%|██████████| 8/8 [00:06<00:00,  1.22it/s]\n"
     ]
    },
    {
     "name": "stdout",
     "output_type": "stream",
     "text": [
      "Epoch 20, Train Loss: 0.4745, Val Loss: 0.5076, Train Acc: 86.07%, Val Acc: 92.86%\n"
     ]
    },
    {
     "name": "stderr",
     "output_type": "stream",
     "text": [
      "Training Epoch 21/25: 100%|██████████| 8/8 [00:06<00:00,  1.22it/s]\n"
     ]
    },
    {
     "name": "stdout",
     "output_type": "stream",
     "text": [
      "Epoch 21, Train Loss: 0.4851, Val Loss: 0.4987, Train Acc: 86.89%, Val Acc: 92.86%\n"
     ]
    },
    {
     "name": "stderr",
     "output_type": "stream",
     "text": [
      "Training Epoch 22/25: 100%|██████████| 8/8 [00:06<00:00,  1.22it/s]\n"
     ]
    },
    {
     "name": "stdout",
     "output_type": "stream",
     "text": [
      "Epoch 22, Train Loss: 0.4460, Val Loss: 0.4926, Train Acc: 87.70%, Val Acc: 85.71%\n"
     ]
    },
    {
     "name": "stderr",
     "output_type": "stream",
     "text": [
      "Training Epoch 23/25: 100%|██████████| 8/8 [00:06<00:00,  1.22it/s]\n"
     ]
    },
    {
     "name": "stdout",
     "output_type": "stream",
     "text": [
      "Epoch 23, Train Loss: 0.4507, Val Loss: 0.4868, Train Acc: 86.07%, Val Acc: 85.71%\n"
     ]
    },
    {
     "name": "stderr",
     "output_type": "stream",
     "text": [
      "Training Epoch 24/25: 100%|██████████| 8/8 [00:06<00:00,  1.22it/s]\n"
     ]
    },
    {
     "name": "stdout",
     "output_type": "stream",
     "text": [
      "Epoch 24, Train Loss: 0.4410, Val Loss: 0.4794, Train Acc: 86.89%, Val Acc: 92.86%\n"
     ]
    },
    {
     "name": "stderr",
     "output_type": "stream",
     "text": [
      "Training Epoch 25/25: 100%|██████████| 8/8 [00:06<00:00,  1.23it/s]\n"
     ]
    },
    {
     "name": "stdout",
     "output_type": "stream",
     "text": [
      "Epoch 25, Train Loss: 0.4535, Val Loss: 0.4727, Train Acc: 85.25%, Val Acc: 92.86%\n",
      "Finished Training\n"
     ]
    },
    {
     "name": "stderr",
     "output_type": "stream",
     "text": [
      "Testing: 100%|██████████| 1/1 [00:01<00:00,  1.82s/it]\n",
      "Training Epoch 1/25: 100%|██████████| 8/8 [00:06<00:00,  1.22it/s]\n"
     ]
    },
    {
     "name": "stdout",
     "output_type": "stream",
     "text": [
      "Epoch 1, Train Loss: 0.6837, Val Loss: 0.6908, Train Acc: 54.92%, Val Acc: 50.00%\n"
     ]
    },
    {
     "name": "stderr",
     "output_type": "stream",
     "text": [
      "Training Epoch 2/25: 100%|██████████| 8/8 [00:06<00:00,  1.22it/s]\n"
     ]
    },
    {
     "name": "stdout",
     "output_type": "stream",
     "text": [
      "Epoch 2, Train Loss: 0.6728, Val Loss: 0.6860, Train Acc: 61.48%, Val Acc: 50.00%\n"
     ]
    },
    {
     "name": "stderr",
     "output_type": "stream",
     "text": [
      "Training Epoch 3/25: 100%|██████████| 8/8 [00:06<00:00,  1.22it/s]\n"
     ]
    },
    {
     "name": "stdout",
     "output_type": "stream",
     "text": [
      "Epoch 3, Train Loss: 0.6839, Val Loss: 0.6831, Train Acc: 54.92%, Val Acc: 50.00%\n"
     ]
    },
    {
     "name": "stderr",
     "output_type": "stream",
     "text": [
      "Training Epoch 4/25: 100%|██████████| 8/8 [00:06<00:00,  1.22it/s]\n"
     ]
    },
    {
     "name": "stdout",
     "output_type": "stream",
     "text": [
      "Epoch 4, Train Loss: 0.6685, Val Loss: 0.6816, Train Acc: 60.66%, Val Acc: 50.00%\n"
     ]
    },
    {
     "name": "stderr",
     "output_type": "stream",
     "text": [
      "Training Epoch 5/25: 100%|██████████| 8/8 [00:06<00:00,  1.22it/s]\n"
     ]
    },
    {
     "name": "stdout",
     "output_type": "stream",
     "text": [
      "Epoch 5, Train Loss: 0.6766, Val Loss: 0.6801, Train Acc: 57.38%, Val Acc: 57.14%\n"
     ]
    },
    {
     "name": "stderr",
     "output_type": "stream",
     "text": [
      "Training Epoch 6/25: 100%|██████████| 8/8 [00:06<00:00,  1.22it/s]\n"
     ]
    },
    {
     "name": "stdout",
     "output_type": "stream",
     "text": [
      "Epoch 6, Train Loss: 0.6777, Val Loss: 0.6792, Train Acc: 50.82%, Val Acc: 50.00%\n"
     ]
    },
    {
     "name": "stderr",
     "output_type": "stream",
     "text": [
      "Training Epoch 7/25: 100%|██████████| 8/8 [00:06<00:00,  1.22it/s]\n"
     ]
    },
    {
     "name": "stdout",
     "output_type": "stream",
     "text": [
      "Epoch 7, Train Loss: 0.6848, Val Loss: 0.6787, Train Acc: 58.20%, Val Acc: 50.00%\n"
     ]
    },
    {
     "name": "stderr",
     "output_type": "stream",
     "text": [
      "Training Epoch 8/25: 100%|██████████| 8/8 [00:06<00:00,  1.22it/s]\n"
     ]
    },
    {
     "name": "stdout",
     "output_type": "stream",
     "text": [
      "Epoch 8, Train Loss: 0.6694, Val Loss: 0.6781, Train Acc: 66.39%, Val Acc: 50.00%\n"
     ]
    },
    {
     "name": "stderr",
     "output_type": "stream",
     "text": [
      "Training Epoch 9/25: 100%|██████████| 8/8 [00:06<00:00,  1.22it/s]\n"
     ]
    },
    {
     "name": "stdout",
     "output_type": "stream",
     "text": [
      "Epoch 9, Train Loss: 0.6756, Val Loss: 0.6775, Train Acc: 61.48%, Val Acc: 50.00%\n"
     ]
    },
    {
     "name": "stderr",
     "output_type": "stream",
     "text": [
      "Training Epoch 10/25: 100%|██████████| 8/8 [00:06<00:00,  1.23it/s]\n"
     ]
    },
    {
     "name": "stdout",
     "output_type": "stream",
     "text": [
      "Epoch 10, Train Loss: 0.6734, Val Loss: 0.6770, Train Acc: 61.48%, Val Acc: 50.00%\n"
     ]
    },
    {
     "name": "stderr",
     "output_type": "stream",
     "text": [
      "Training Epoch 11/25: 100%|██████████| 8/8 [00:06<00:00,  1.22it/s]\n"
     ]
    },
    {
     "name": "stdout",
     "output_type": "stream",
     "text": [
      "Epoch 11, Train Loss: 0.6647, Val Loss: 0.6768, Train Acc: 64.75%, Val Acc: 50.00%\n"
     ]
    },
    {
     "name": "stderr",
     "output_type": "stream",
     "text": [
      "Training Epoch 12/25: 100%|██████████| 8/8 [00:06<00:00,  1.22it/s]\n"
     ]
    },
    {
     "name": "stdout",
     "output_type": "stream",
     "text": [
      "Epoch 12, Train Loss: 0.6671, Val Loss: 0.6766, Train Acc: 63.11%, Val Acc: 50.00%\n"
     ]
    },
    {
     "name": "stderr",
     "output_type": "stream",
     "text": [
      "Training Epoch 13/25: 100%|██████████| 8/8 [00:06<00:00,  1.22it/s]\n"
     ]
    },
    {
     "name": "stdout",
     "output_type": "stream",
     "text": [
      "Epoch 13, Train Loss: 0.6647, Val Loss: 0.6762, Train Acc: 64.75%, Val Acc: 50.00%\n"
     ]
    },
    {
     "name": "stderr",
     "output_type": "stream",
     "text": [
      "Training Epoch 14/25: 100%|██████████| 8/8 [00:06<00:00,  1.22it/s]\n"
     ]
    },
    {
     "name": "stdout",
     "output_type": "stream",
     "text": [
      "Epoch 14, Train Loss: 0.6662, Val Loss: 0.6758, Train Acc: 67.21%, Val Acc: 50.00%\n"
     ]
    },
    {
     "name": "stderr",
     "output_type": "stream",
     "text": [
      "Training Epoch 15/25: 100%|██████████| 8/8 [00:06<00:00,  1.22it/s]\n"
     ]
    },
    {
     "name": "stdout",
     "output_type": "stream",
     "text": [
      "Epoch 15, Train Loss: 0.6517, Val Loss: 0.6754, Train Acc: 70.49%, Val Acc: 50.00%\n"
     ]
    },
    {
     "name": "stderr",
     "output_type": "stream",
     "text": [
      "Training Epoch 16/25: 100%|██████████| 8/8 [00:06<00:00,  1.23it/s]\n"
     ]
    },
    {
     "name": "stdout",
     "output_type": "stream",
     "text": [
      "Epoch 16, Train Loss: 0.6630, Val Loss: 0.6751, Train Acc: 68.85%, Val Acc: 50.00%\n"
     ]
    },
    {
     "name": "stderr",
     "output_type": "stream",
     "text": [
      "Training Epoch 17/25: 100%|██████████| 8/8 [00:06<00:00,  1.23it/s]\n"
     ]
    },
    {
     "name": "stdout",
     "output_type": "stream",
     "text": [
      "Epoch 17, Train Loss: 0.6741, Val Loss: 0.6749, Train Acc: 59.02%, Val Acc: 50.00%\n"
     ]
    },
    {
     "name": "stderr",
     "output_type": "stream",
     "text": [
      "Training Epoch 18/25: 100%|██████████| 8/8 [00:06<00:00,  1.22it/s]\n"
     ]
    },
    {
     "name": "stdout",
     "output_type": "stream",
     "text": [
      "Epoch 18, Train Loss: 0.6542, Val Loss: 0.6746, Train Acc: 68.85%, Val Acc: 57.14%\n"
     ]
    },
    {
     "name": "stderr",
     "output_type": "stream",
     "text": [
      "Training Epoch 19/25: 100%|██████████| 8/8 [00:06<00:00,  1.21it/s]\n"
     ]
    },
    {
     "name": "stdout",
     "output_type": "stream",
     "text": [
      "Epoch 19, Train Loss: 0.6511, Val Loss: 0.6745, Train Acc: 68.85%, Val Acc: 57.14%\n"
     ]
    },
    {
     "name": "stderr",
     "output_type": "stream",
     "text": [
      "Training Epoch 20/25: 100%|██████████| 8/8 [00:06<00:00,  1.23it/s]\n"
     ]
    },
    {
     "name": "stdout",
     "output_type": "stream",
     "text": [
      "Epoch 20, Train Loss: 0.6680, Val Loss: 0.6743, Train Acc: 64.75%, Val Acc: 57.14%\n"
     ]
    },
    {
     "name": "stderr",
     "output_type": "stream",
     "text": [
      "Training Epoch 21/25: 100%|██████████| 8/8 [00:06<00:00,  1.22it/s]\n"
     ]
    },
    {
     "name": "stdout",
     "output_type": "stream",
     "text": [
      "Epoch 21, Train Loss: 0.6637, Val Loss: 0.6742, Train Acc: 68.03%, Val Acc: 57.14%\n"
     ]
    },
    {
     "name": "stderr",
     "output_type": "stream",
     "text": [
      "Training Epoch 22/25: 100%|██████████| 8/8 [00:06<00:00,  1.22it/s]\n"
     ]
    },
    {
     "name": "stdout",
     "output_type": "stream",
     "text": [
      "Epoch 22, Train Loss: 0.6595, Val Loss: 0.6740, Train Acc: 63.11%, Val Acc: 57.14%\n"
     ]
    },
    {
     "name": "stderr",
     "output_type": "stream",
     "text": [
      "Training Epoch 23/25: 100%|██████████| 8/8 [00:06<00:00,  1.22it/s]\n"
     ]
    },
    {
     "name": "stdout",
     "output_type": "stream",
     "text": [
      "Epoch 23, Train Loss: 0.6710, Val Loss: 0.6738, Train Acc: 59.84%, Val Acc: 57.14%\n"
     ]
    },
    {
     "name": "stderr",
     "output_type": "stream",
     "text": [
      "Training Epoch 24/25: 100%|██████████| 8/8 [00:06<00:00,  1.22it/s]\n"
     ]
    },
    {
     "name": "stdout",
     "output_type": "stream",
     "text": [
      "Epoch 24, Train Loss: 0.6590, Val Loss: 0.6737, Train Acc: 65.57%, Val Acc: 57.14%\n"
     ]
    },
    {
     "name": "stderr",
     "output_type": "stream",
     "text": [
      "Training Epoch 25/25: 100%|██████████| 8/8 [00:06<00:00,  1.22it/s]\n"
     ]
    },
    {
     "name": "stdout",
     "output_type": "stream",
     "text": [
      "Epoch 25, Train Loss: 0.6556, Val Loss: 0.6736, Train Acc: 69.67%, Val Acc: 57.14%\n",
      "Finished Training\n"
     ]
    },
    {
     "name": "stderr",
     "output_type": "stream",
     "text": [
      "Testing: 100%|██████████| 1/1 [00:01<00:00,  1.80s/it]"
     ]
    },
    {
     "name": "stdout",
     "output_type": "stream",
     "text": [
      "                       Model  Accuracy  Precision    Recall  F1 Score\n",
      "0                    Default  0.647059   0.631579  0.705882  0.666667\n",
      "1  Optimized (Random search)  0.735294   0.681818  0.882353  0.769231\n",
      "2     Optimized (TPE search)  0.705882   0.640000  0.941176  0.761905\n",
      "                    Model  Accuracy  Precision   Recall  F1 Score\n",
      "                  Default  0.647059   0.631579 0.705882  0.666667\n",
      "Optimized (Random search)  0.735294   0.681818 0.882353  0.769231\n",
      "   Optimized (TPE search)  0.705882   0.640000 0.941176  0.761905\n"
     ]
    },
    {
     "name": "stderr",
     "output_type": "stream",
     "text": [
      "\n"
     ]
    }
   ],
   "source": [
    "# Before optimization\n",
    "default_model = SimpleCNN().to(DEVICE)\n",
    "default_optimizer = optim.Adam(default_model.parameters(), lr=0.001, weight_decay=0.0001)\n",
    "default_train_losses, default_val_losses = train_model(default_model, train_data, criterion, default_optimizer, DEVICE, n_epochs=EPOCHS, model_name=\"default_model\")\n",
    "default_accuracy, default_precision, default_recall, default_f1 = test_model(default_model, test_data, DEVICE)\n",
    "\n",
    "# After optimization (Random search)\n",
    "optimized_model_random = SimpleCNN(dropout_rate=best_params_random['dropout_rate']).to(DEVICE)\n",
    "optimized_optimizer_random = getattr(optim, best_params_random['optimizer'])(optimized_model_random.parameters(), lr=best_params_random['learning_rate'], weight_decay=best_params_random['weight_decay'])\n",
    "optimized_train_losses_random, optimized_val_losses_random = train_model(\n",
    "    optimized_model_random,\n",
    "    train_data,\n",
    "    criterion,\n",
    "    optimized_optimizer_random,\n",
    "    DEVICE,\n",
    "    best_params_random[\"batch_size\"],\n",
    "    n_epochs=EPOCHS,\n",
    "    model_name=\"optimized_model_random\",\n",
    ")\n",
    "optimized_accuracy_random, optimized_precision_random, optimized_recall_random, optimized_f1_random = test_model(optimized_model_random, test_data, DEVICE)\n",
    "\n",
    "# After optimization (TPE search)\n",
    "optimized_model_tpe = SimpleCNN(dropout_rate=best_params_tpe['dropout_rate']).to(DEVICE)\n",
    "optimized_optimizer_tpe = getattr(optim, best_params_tpe['optimizer'])(optimized_model_tpe.parameters(), lr=best_params_tpe['learning_rate'], weight_decay=best_params_tpe['weight_decay'])\n",
    "optimized_train_losses_tpe, optimized_val_losses_tpe = train_model(optimized_model_tpe, train_data, criterion, optimized_optimizer_tpe, DEVICE, best_params_tpe['batch_size'], n_epochs=EPOCHS, model_name=\"optimized_model_tpe\")\n",
    "optimized_accuracy_tpe, optimized_precision_tpe, optimized_recall_tpe, optimized_f1_tpe = test_model(optimized_model_tpe, test_data, DEVICE)\n",
    "\n",
    "# Create a DataFrame to visualize the metrics\n",
    "metrics_df = pd.DataFrame({\n",
    "    'Model': ['Default', 'Optimized (Random search)', 'Optimized (TPE search)'],\n",
    "    'Accuracy': [default_accuracy, optimized_accuracy_random, optimized_accuracy_tpe],\n",
    "    'Precision': [default_precision, optimized_precision_random, optimized_precision_tpe],\n",
    "    'Recall': [default_recall, optimized_recall_random, optimized_recall_tpe],\n",
    "    'F1 Score': [default_f1, optimized_f1_random, optimized_f1_tpe]\n",
    "})\n",
    "\n",
    "print(metrics_df)\n",
    "\n",
    "# Optionally, to display as a formatted table\n",
    "print(metrics_df.to_string(index=False))"
   ]
  },
  {
   "cell_type": "markdown",
   "metadata": {},
   "source": [
    "### Visualize the validation losses of the 3 different models\n",
    "Visualizing the validation losses can help in identifying problems during training and compare the model performances over time."
   ]
  },
  {
   "cell_type": "code",
   "execution_count": 13,
   "metadata": {},
   "outputs": [
    {
     "data": {
      "image/png": "[encoded data removed]",
      "text/plain": [
       "<Figure size 1200x600 with 1 Axes>"
      ]
     },
     "metadata": {},
     "output_type": "display_data"
    }
   ],
   "source": [
    "# Plot the validation losses for each model\n",
    "plt.figure(figsize=(12, 6))\n",
    "\n",
    "# Plot validation losses for the default model\n",
    "plt.plot(default_val_losses, label='Default Model', linestyle='-', marker='o')\n",
    "\n",
    "# Plot validation losses for the random search optimized model\n",
    "plt.plot(optimized_val_losses_random, label='Random Search Optimized Model', linestyle='-', marker='x')\n",
    "\n",
    "# Plot validation losses for the TPE search optimized model\n",
    "plt.plot(optimized_val_losses_tpe, label='TPE Search Optimized Model', linestyle='-', marker='s')\n",
    "\n",
    "# Add titles and labels\n",
    "plt.title('Validation Losses per Epoch for Different Models')\n",
    "plt.xlabel('Epoch')\n",
    "plt.ylabel('Validation Loss')\n",
    "plt.legend()\n",
    "\n",
    "# Show the plot\n",
    "plt.show()\n"
   ]
  }
 ],
 "metadata": {
  "kernelspec": {
   "display_name": "1BM120",
   "language": "python",
   "name": "python3"
  },
  "language_info": {
   "codemirror_mode": {
    "name": "ipython",
    "version": 3
   },
   "file_extension": ".py",
   "mimetype": "text/x-python",
   "name": "python",
   "nbconvert_exporter": "python",
   "pygments_lexer": "ipython3",
   "version": "3.12.2"
  }
 },
 "nbformat": 4,
 "nbformat_minor": 2
}
